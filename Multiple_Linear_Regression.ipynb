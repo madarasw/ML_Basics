{
  "nbformat": 4,
  "nbformat_minor": 0,
  "metadata": {
    "colab": {
      "provenance": [],
      "authorship_tag": "ABX9TyP10tRmfkz25oHyzIYKHgxM",
      "include_colab_link": true
    },
    "kernelspec": {
      "name": "python3",
      "display_name": "Python 3"
    },
    "language_info": {
      "name": "python"
    }
  },
  "cells": [
    {
      "cell_type": "markdown",
      "metadata": {
        "id": "view-in-github",
        "colab_type": "text"
      },
      "source": [
        "<a href=\"https://colab.research.google.com/github/madarasw/ML_Basics/blob/main/Multiple_Linear_Regression.ipynb\" target=\"_parent\"><img src=\"https://colab.research.google.com/assets/colab-badge.svg\" alt=\"Open In Colab\"/></a>"
      ]
    },
    {
      "cell_type": "code",
      "execution_count": 1,
      "metadata": {
        "colab": {
          "base_uri": "https://localhost:8080/"
        },
        "id": "crWzxEJs3lU9",
        "outputId": "18be4acb-8d4d-4259-e15f-a06b86871054"
      },
      "outputs": [
        {
          "output_type": "stream",
          "name": "stdout",
          "text": [
            "Mounted at /content/drive\n"
          ]
        }
      ],
      "source": [
        "# mount google drive\n",
        "\n",
        "from google.colab import drive\n",
        "drive.mount('/content/drive')"
      ]
    },
    {
      "cell_type": "code",
      "source": [
        "import os\n",
        "import sys\n",
        "import matplotlib.pyplot as plt\n",
        "\n",
        "sys.path.append(\"drive/MyDrive/Colab Notebooks\")\n",
        "plt.style.use('drive/MyDrive/Colab Notebooks/deeplearning.mplstyle')\n",
        "os.listdir(\"drive/MyDrive/Colab Notebooks\")"
      ],
      "metadata": {
        "colab": {
          "base_uri": "https://localhost:8080/"
        },
        "collapsed": true,
        "id": "V9oF0o2s3vOh",
        "outputId": "23cff974-b9b4-45b1-e4a5-723291f419de"
      },
      "execution_count": 2,
      "outputs": [
        {
          "output_type": "execute_result",
          "data": {
            "text/plain": [
              "['Test.ipynb',\n",
              " 'My_Data.csv',\n",
              " 'Linear_Regression.ipynb',\n",
              " 'Test2.ipynb',\n",
              " 'FinRobot.ipynb',\n",
              " 'DataInterpreter.ipynb',\n",
              " 'Data Interpreter 2.ipynb',\n",
              " 'Copy of turicreate-activity-classification.ipynb',\n",
              " 'Untitled0.ipynb',\n",
              " 'Untitled1.ipynb',\n",
              " 'Vectorization.ipynb',\n",
              " 'Multiple Variable Linear Regression.ipynb',\n",
              " 'deeplearning.mplstyle',\n",
              " '__pycache__',\n",
              " 'lab_utils_common.py',\n",
              " 'lab_utils_multi.py',\n",
              " 'Model_Representation.ipynb',\n",
              " 'Feature scaling and learning rate.ipynb',\n",
              " 'lab_utils_uni.py',\n",
              " 'Cost_function.ipynb',\n",
              " 'Gradient_Descent.ipynb',\n",
              " 'Untitled2.ipynb']"
            ]
          },
          "metadata": {},
          "execution_count": 2
        }
      ]
    },
    {
      "cell_type": "markdown",
      "source": [
        "Goals:\n",
        "* Extend our regression model routines to support multiple features\n",
        "* Extend data structures to support multiple features\n",
        "* Rewrite prediction, cost and gradient routines to support multiple features\n",
        "* Utilize NumPy np.dot to vectorize their implementations for speed and simplicity  \n",
        "\n"
      ],
      "metadata": {
        "id": "VvHx_sGi4SoR"
      }
    },
    {
      "cell_type": "code",
      "source": [
        "import copy, math\n",
        "import numpy as np\n",
        "np.set_printoptions(precision=2)  # reduced display precision on numpy arrays"
      ],
      "metadata": {
        "id": "xHzWi4Jm3-43"
      },
      "execution_count": 3,
      "outputs": []
    },
    {
      "cell_type": "markdown",
      "source": [
        "# Problem Statement\n",
        "\n",
        "You will use the motivating example of housing price prediction. The training dataset contains three examples with four features (size, bedrooms, floors and, age) shown in the table below.  Note that, unlike the earlier labs, size is in sqft rather than 1000 sqft. This causes an issue, which you will solve in the next lab!\n",
        "\n",
        "| Size (sqft) | Number of Bedrooms  | Number of floors | Age of  Home | Price (1000s dollars)  |   \n",
        "| ----------------| ------------------- |----------------- |--------------|-------------- |  \n",
        "| 2104            | 5                   | 1                | 45           | 460           |  \n",
        "| 1416            | 3                   | 2                | 40           | 232           |  \n",
        "| 852             | 2                   | 1                | 35           | 178           |  \n",
        "\n",
        "You will build a linear regression model using these values so you can then predict the price for other houses. For example, a house with 1200 sqft, 3 bedrooms, 1 floor, 40 years old.  \n",
        "\n",
        "Please run the following code cell to create your `X_train` and `y_train` variables."
      ],
      "metadata": {
        "id": "1J3mCGBr5NNM"
      }
    },
    {
      "cell_type": "code",
      "source": [
        "x_train = np.array([[2104, 5,1,45],[1416, 3, 2, 40],[852, 2, 1, 35]])\n",
        "y_train = np.array([460, 232, 178])"
      ],
      "metadata": {
        "id": "4Y5zvPxR5IrL"
      },
      "execution_count": 8,
      "outputs": []
    },
    {
      "cell_type": "markdown",
      "source": [
        "## Parameter vector w, b\n",
        "\n",
        "* $\\mathbf{w}$ is a vector with $n$ elements.\n",
        "  - Each element contains the parameter associated with one feature.\n",
        "  - in our dataset, n is 4.\n",
        "  - notionally, we draw this as a column vector\n",
        "\n",
        "$$\\mathbf{w} = \\begin{pmatrix}\n",
        "w_0 \\\\\n",
        "w_1 \\\\\n",
        "\\cdots\\\\\n",
        "w_{n-1}\n",
        "\\end{pmatrix}\n",
        "$$\n",
        "* $b$ is a scalar parameter."
      ],
      "metadata": {
        "id": "CnG9NnSU7A9o"
      }
    },
    {
      "cell_type": "code",
      "source": [
        "b_init = 785.1811367994083\n",
        "w_init = np.array([ 0.39133535, 18.75376741, -53.36032453, -26.42131618])\n",
        "print(f\"w_init shape: {w_init.shape}, b_init type: {type(b_init)}\")"
      ],
      "metadata": {
        "colab": {
          "base_uri": "https://localhost:8080/"
        },
        "id": "7zDhc5ze5JPN",
        "outputId": "b9ad9ca5-dcab-4cac-c12b-f21ffe2bb7de"
      },
      "execution_count": 4,
      "outputs": [
        {
          "output_type": "stream",
          "name": "stdout",
          "text": [
            "w_init shape: (4,), b_init type: <class 'float'>\n"
          ]
        }
      ]
    },
    {
      "cell_type": "code",
      "source": [
        "def predict_single_loop(x, w, b):\n",
        "  '''\n",
        "  Predict the price for one selected row of data (one house) with a given w, and b\n",
        "  Inputs: Features, w, b\n",
        "  Output: Predicted house price\n",
        "  '''\n",
        "\n",
        "  n = x.shape[0]\n",
        "  predicted_price = 0\n",
        "  for j in range(n):\n",
        "    predicted_price += w[j] * x[j]\n",
        "  total_price = predicted_price + b\n",
        "  return total_price"
      ],
      "metadata": {
        "id": "AIJ6e-h67JSF"
      },
      "execution_count": 17,
      "outputs": []
    },
    {
      "cell_type": "code",
      "source": [
        "# Testing the function\n",
        "\n",
        "x_vec = x_train[0]\n",
        "f_wb = predict_single_loop(x_vec, w_init, b_init)\n",
        "\n",
        "print(f\"x_vec shape {x_vec.shape}, x_vec value: {x_vec}\")\n",
        "print(f\"prediction: {f_wb}\")"
      ],
      "metadata": {
        "colab": {
          "base_uri": "https://localhost:8080/"
        },
        "id": "DPInIJHX8wxc",
        "outputId": "1a4ef54d-6a52-4775-fbd5-aec67e72a460"
      },
      "execution_count": 20,
      "outputs": [
        {
          "output_type": "stream",
          "name": "stdout",
          "text": [
            "x_vec shape (4,), x_vec value: [2104    5    1   45]\n",
            "prediction: 459.9999976194083\n"
          ]
        }
      ]
    },
    {
      "cell_type": "markdown",
      "source": [
        "## Single Prediction, vector\n",
        "\n",
        "Noting that equation (1) above can be implemented using the dot product as in (2) above. We can make use of vector operations to speed up predictions.\n",
        "\n",
        "Recall from the Python/Numpy lab that NumPy `np.dot()`[[link](https://numpy.org/doc/stable/reference/generated/numpy.dot.html)] can be used to perform a vector dot product."
      ],
      "metadata": {
        "id": "La7nZnG5-eSZ"
      }
    },
    {
      "cell_type": "code",
      "source": [
        "def predict(x, w, b):\n",
        "    \"\"\"\n",
        "    single predict using linear regression\n",
        "    Args:\n",
        "      x (ndarray): Shape (n,) example with multiple features\n",
        "      w (ndarray): Shape (n,) model parameters\n",
        "      b (scalar):             model parameter\n",
        "\n",
        "    Returns:\n",
        "      p (scalar):  prediction\n",
        "    \"\"\"\n",
        "    p = np.dot(w, x) + b\n",
        "    return p"
      ],
      "metadata": {
        "id": "jZclHDsn9FG0"
      },
      "execution_count": 25,
      "outputs": []
    },
    {
      "cell_type": "code",
      "source": [
        "# Testing the function\n",
        "\n",
        "x_vec = x_train[0]\n",
        "f_wb = predict(x_vec, w_init, b_init)\n",
        "\n",
        "print(f\"x_vec shape {x_vec.shape}, x_vec value: {x_vec}\")\n",
        "print(f\"prediction: {f_wb}\")"
      ],
      "metadata": {
        "colab": {
          "base_uri": "https://localhost:8080/"
        },
        "collapsed": true,
        "id": "M5ZM2uOw-q_r",
        "outputId": "9661e717-68cb-4a89-e931-3de209b615f3"
      },
      "execution_count": 26,
      "outputs": [
        {
          "output_type": "stream",
          "name": "stdout",
          "text": [
            "x_vec shape (4,), x_vec value: [2104    5    1   45]\n",
            "prediction: 459.9999976194083\n"
          ]
        }
      ]
    },
    {
      "cell_type": "markdown",
      "source": [
        "# 4 Compute Cost With Multiple Variables\n",
        "The equation for the cost function with multiple variables $J(\\mathbf{w},b)$ is:\n",
        "$$J(\\mathbf{w},b) = \\frac{1}{2m} \\sum\\limits_{i = 0}^{m-1} (f_{\\mathbf{w},b}(\\mathbf{x}^{(i)}) - y^{(i)})^2 \\tag{3}$$\n",
        "where:\n",
        "$$ f_{\\mathbf{w},b}(\\mathbf{x}^{(i)}) = \\mathbf{w} \\cdot \\mathbf{x}^{(i)} + b  \\tag{4} $$\n",
        "\n",
        "\n",
        "In contrast to previous labs, $\\mathbf{w}$ and $\\mathbf{x}^{(i)}$ are vectors rather than scalars supporting multiple features."
      ],
      "metadata": {
        "id": "_Md-UL_T_CSN"
      }
    },
    {
      "cell_type": "code",
      "source": [
        "def calculate_cost(x, y, w, b):\n",
        "    '''\n",
        "    Compute the cost of the function for a given w and b.\n",
        "    Args:\n",
        "      x (ndarray): Shape (n,) example with multiple features\n",
        "      y (ndarray): Shape (n,) example targets\n",
        "      w (ndarray): Shape (n,) model parameters\n",
        "      b (scalar):             model parameter\n",
        "\n",
        "    Returns:\n",
        "      p (scalar):  prediction\n",
        "    '''\n",
        "    m = x.shape[0]\n",
        "    cost_sum = 0.0\n",
        "    for i in range(m):\n",
        "      f_wb_i = np.dot(x[i], w) + b\n",
        "      cost_sum += (f_wb_i - y[i])**2\n",
        "    cost = cost_sum/(2*m)\n",
        "\n",
        "    return cost"
      ],
      "metadata": {
        "id": "OeiY0ph0-6uy"
      },
      "execution_count": 128,
      "outputs": []
    },
    {
      "cell_type": "code",
      "source": [
        "# Compute and display cost using our pre-chosen optimal parameters.\n",
        "cost = calculate_cost(x_train, y_train, w_init, b_init)\n",
        "print(f'Cost at optimal w : {cost}')"
      ],
      "metadata": {
        "colab": {
          "base_uri": "https://localhost:8080/"
        },
        "id": "0mE04_Dt_s5K",
        "outputId": "6b520ec6-b342-4856-cfbe-e7f4a086375a"
      },
      "execution_count": 129,
      "outputs": [
        {
          "output_type": "stream",
          "name": "stdout",
          "text": [
            "Cost at optimal w : 1.5578904428966628e-12\n"
          ]
        }
      ]
    },
    {
      "cell_type": "code",
      "source": [
        "def compute_gradient(x, y, w, b):\n",
        "  '''\n",
        "    Compute the cost of the function for a given w and b.\n",
        "    Args:\n",
        "      x (ndarray): Shape (m,n) example with multiple features\n",
        "      y (ndarray): Shape (m,) example targets\n",
        "      w (ndarray): Shape (n,) model parameters\n",
        "      b (scalar):             model parameter\n",
        "\n",
        "    Returns:\n",
        "      p (scalar):  prediction\n",
        "  '''\n",
        "  m, n = x.shape\n",
        "  gradients = np.zeros(4)\n",
        "  gradient_b = 0.0\n",
        "\n",
        "  for i in range(m):\n",
        "    error = (np.dot(x[i], w) + b - y[i])\n",
        "    for j in range(n):\n",
        "      gradients[j] += error*x[i][j]\n",
        "    gradient_b += error\n",
        "\n",
        "  gradients = gradients/m\n",
        "  gradient_b = gradient_b/m\n",
        "\n",
        "  return gradient_b, gradients"
      ],
      "metadata": {
        "id": "3JPqvDjsHzXu"
      },
      "execution_count": 144,
      "outputs": []
    },
    {
      "cell_type": "code",
      "source": [
        "#Compute and display gradient\n",
        "tmp_dj_db, tmp_dj_dw = compute_gradient(x_train, y_train, w_init, b_init)\n",
        "print(f'dj_db at initial w,b: {tmp_dj_db}')\n",
        "print(f'dj_dw at initial w,b: {tmp_dj_dw}')"
      ],
      "metadata": {
        "colab": {
          "base_uri": "https://localhost:8080/"
        },
        "id": "QzHyftpxLJoD",
        "outputId": "cd6e5ce0-0b20-4d05-e24a-2f41f0375cdf"
      },
      "execution_count": 145,
      "outputs": [
        {
          "output_type": "stream",
          "name": "stdout",
          "text": [
            "dj_db at initial w,b: -1.6739251501955248e-06\n",
            "dj_dw at initial w,b: [-2.73e-03 -6.27e-06 -2.22e-06 -6.92e-05]\n"
          ]
        }
      ]
    },
    {
      "cell_type": "code",
      "source": [
        "def gradient_descent(x, y, w_in, b_in, cost_function, gradient_function, alpha, num_iters):\n",
        "  '''\n",
        "    Performs batch gradient descent to learn w and b.\n",
        "    Args:\n",
        "      x (ndarray):        Shape (m,n) example with multiple features\n",
        "      y (ndarray):        Shape (m,) example with multiple features\n",
        "      w_in (ndarray):     Shape (n,) model parameters\n",
        "      b_in (scalar):      model parameter\n",
        "      alpha (float):      Learning rate\n",
        "      cost_function:      function used to calculate the cost\n",
        "      gradient_function:  function used to calcullate the gradient\n",
        "      num_iters (int):    number of iterations to run gradient descent\n",
        "\n",
        "    Returns:\n",
        "      w (ndarray): Shape (n,) example with multiple features\n",
        "      b (scalar) : example with multiple features\n",
        "  '''\n",
        "\n",
        "  w = w_in\n",
        "  b = b_in\n",
        "  m, n = x.shape\n",
        "  j_history = []\n",
        "\n",
        "\n",
        "  for iter in range(num_iters):\n",
        "    gradient_b, gradients = gradient_function(x, y, w_in, b_in)\n",
        "    for i in range(n):\n",
        "      w[i] = w[i] - alpha*gradients[i]\n",
        "    b = b - alpha*gradient_b\n",
        "\n",
        "    cost = cost_function(x, y, w, b)\n",
        "\n",
        "    # Save cost J at each iteration\n",
        "    if iter<100000:      # prevent resource exhaustion\n",
        "        j_history.append(cost)\n",
        "\n",
        "    # Print cost every at intervals 10 times or as many iterations if < 10\n",
        "    if iter% math.ceil(num_iters / 10) == 0:\n",
        "        print(f\"Iteration {iter:4d}: Cost {j_history[-1]:8.2f}\")\n",
        "\n",
        "  return w, b, j_history\n"
      ],
      "metadata": {
        "id": "h3QdFgS1LNro"
      },
      "execution_count": 154,
      "outputs": []
    },
    {
      "cell_type": "code",
      "source": [
        "# initialize parameters\n",
        "initial_w = np.zeros_like(w_init)\n",
        "initial_b = 0.\n",
        "\n",
        "# some gradient descent settings\n",
        "iterations = 1000\n",
        "alpha = 5.0e-9\n",
        "\n",
        "w_final, b_final, j_history = gradient_descent(x_train, y_train, initial_w, initial_b, calculate_cost, compute_gradient, alpha, iterations)\n",
        "\n",
        "print(f\"Final value for b: {b_final:0.2f}\")\n",
        "print(f\"Final value for w: {w_final}\")\n",
        "m,_ = x_train.shape\n",
        "for i in range(m):\n",
        "    print(f\"prediction: {np.dot(x_train[i], w_final) + b_final:0.2f}, target value: {y_train[i]}\")\n"
      ],
      "metadata": {
        "colab": {
          "base_uri": "https://localhost:8080/"
        },
        "id": "ltbpb-epvXdT",
        "outputId": "39b6a69a-b799-4774-c694-a5578260d902"
      },
      "execution_count": 171,
      "outputs": [
        {
          "output_type": "stream",
          "name": "stdout",
          "text": [
            "Iteration    0: Cost 48359.37\n",
            "Iteration  100: Cost  5012.97\n",
            "Iteration  200: Cost  1087.87\n",
            "Iteration  300: Cost   732.44\n",
            "Iteration  400: Cost   700.24\n",
            "Iteration  500: Cost   697.32\n",
            "Iteration  600: Cost   697.04\n",
            "Iteration  700: Cost   697.01\n",
            "Iteration  800: Cost   696.99\n",
            "Iteration  900: Cost   696.98\n",
            "Final value for b: 0.00\n",
            "Final value for w: [2.02e-01 4.98e-04 4.86e-05 4.39e-03]\n",
            "prediction: 425.59, target value: 460\n",
            "prediction: 286.47, target value: 232\n",
            "prediction: 172.42, target value: 178\n"
          ]
        }
      ]
    },
    {
      "cell_type": "code",
      "source": [
        "# plot cost versus iteration\n",
        "fig, (ax1, ax2) = plt.subplots(1, 2, constrained_layout=True, figsize=(12, 4))\n",
        "ax1.plot(j_history)\n",
        "ax2.plot(100 + np.arange(len(j_history[100:])), j_history[100:])\n",
        "ax1.set_title(\"Cost vs. iteration\");  ax2.set_title(\"Cost vs. iteration (tail)\")\n",
        "ax1.set_ylabel('Cost')             ;  ax2.set_ylabel('Cost')\n",
        "ax1.set_xlabel('iteration step')   ;  ax2.set_xlabel('iteration step')\n",
        "plt.show()"
      ],
      "metadata": {
        "colab": {
          "base_uri": "https://localhost:8080/",
          "height": 428
        },
        "id": "RmeT48DqxeiY",
        "outputId": "0b684632-28fa-4df3-e5ca-f96b727af4b0"
      },
      "execution_count": 176,
      "outputs": [
        {
          "output_type": "display_data",
          "data": {
            "text/plain": [
              "<Figure size 1200x400 with 2 Axes>"
            ],
            "image/png": "[encoded data removed]"
          },
          "metadata": {}
        }
      ]
    },
    {
      "cell_type": "code",
      "source": [],
      "metadata": {
        "id": "Ea0B_p4eA06b"
      },
      "execution_count": 176,
      "outputs": []
    }
  ]
}